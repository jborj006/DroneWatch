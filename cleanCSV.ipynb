{
  "nbformat": 4,
  "nbformat_minor": 0,
  "metadata": {
    "colab": {
      "name": "cleanCSV.ipynb",
      "provenance": [],
      "collapsed_sections": [],
      "include_colab_link": true
    },
    "kernelspec": {
      "name": "python3",
      "display_name": "Python 3"
    }
  },
  "cells": [
    {
      "cell_type": "markdown",
      "metadata": {
        "id": "view-in-github",
        "colab_type": "text"
      },
      "source": [
        "<a href=\"https://colab.research.google.com/github/jborj006/DroneWatch/blob/master/cleanCSV.ipynb\" target=\"_parent\"><img src=\"https://colab.research.google.com/assets/colab-badge.svg\" alt=\"Open In Colab\"/></a>"
      ]
    },
    {
      "cell_type": "markdown",
      "metadata": {
        "id": "rIct9JglUQsJ",
        "colab_type": "text"
      },
      "source": [
        "#Import Libraries"
      ]
    },
    {
      "cell_type": "code",
      "metadata": {
        "id": "5ve5jVkPT7cJ",
        "colab_type": "code",
        "colab": {}
      },
      "source": [
        "import pandas as pd\n",
        "import numpy as np"
      ],
      "execution_count": 0,
      "outputs": []
    },
    {
      "cell_type": "markdown",
      "metadata": {
        "id": "otQBKMOUUuDc",
        "colab_type": "text"
      },
      "source": [
        "##Import raw data from github"
      ]
    },
    {
      "cell_type": "code",
      "metadata": {
        "id": "9Z16znUKUUxU",
        "colab_type": "code",
        "colab": {}
      },
      "source": [
        "url = 'https://raw.githubusercontent.com/jborj006/DroneWatch/master/rawMasterRFIDFile.csv'\n",
        "rawData = pd.read_csv(url)"
      ],
      "execution_count": 0,
      "outputs": []
    },
    {
      "cell_type": "markdown",
      "metadata": {
        "id": "xIjrU1EVU7_j",
        "colab_type": "text"
      },
      "source": [
        "## View imported raw data "
      ]
    },
    {
      "cell_type": "code",
      "metadata": {
        "id": "HOuiBQ1ZU7dm",
        "colab_type": "code",
        "colab": {}
      },
      "source": [
        "rawData"
      ],
      "execution_count": 0,
      "outputs": []
    },
    {
      "cell_type": "markdown",
      "metadata": {
        "id": "DiW37Go8VScL",
        "colab_type": "text"
      },
      "source": [
        "##Clean raw data"
      ]
    },
    {
      "cell_type": "code",
      "metadata": {
        "id": "wm2n18_VVNQW",
        "colab_type": "code",
        "colab": {}
      },
      "source": [
        ""
      ],
      "execution_count": 0,
      "outputs": []
    },
    {
      "cell_type": "code",
      "metadata": {
        "id": "8sy20thaVNqG",
        "colab_type": "code",
        "colab": {}
      },
      "source": [
        ""
      ],
      "execution_count": 0,
      "outputs": []
    }
  ]
}